{
 "cells": [
  {
   "cell_type": "code",
   "execution_count": 18,
   "id": "3b31f925-2302-4a4a-87b4-76b09d79b28a",
   "metadata": {},
   "outputs": [],
   "source": [
    "import pandas as pd"
   ]
  },
  {
   "cell_type": "code",
   "execution_count": 25,
   "id": "268186e0-7e6c-4c96-9329-0761950de6a4",
   "metadata": {},
   "outputs": [],
   "source": [
    "df = pd.read_json('../data/results.json',lines=True)\n",
    "df = (pd.DataFrame(df['specs'].values.tolist())\n",
    "      .join(df.drop('specs', axis=1)))\n",
    "\n",
    "bla = (df.columns\n",
    "       .str.replace(' ', '_')\n",
    "       .str.lower())"
   ]
  },
  {
   "cell_type": "code",
   "execution_count": 26,
   "id": "a31ac954-90d8-474d-ba57-264d37281d99",
   "metadata": {},
   "outputs": [
    {
     "data": {
      "text/plain": [
       "Index(['manufacturer', 'made_in', 'fx', 'type', 'jacks_mounted_on', 'bypass',\n",
       "       'battery?', 'voltage', 'polarity', 'circuit', 'tube_equipped?',\n",
       "       'weight_(in_kg)', 'famous_users', 'width_(in_cm)', 'height_(in_cm)',\n",
       "       'depth_(in_cm)', 'gtin_14', 'additional_fx', 'based_on_famous_model?',\n",
       "       'series', 'video', 'special_features', 'year', 'colour',\n",
       "       'serial_number', 'manufacturer_part_number', 'gtin-12', 'url', 'name'],\n",
       "      dtype='object')"
      ]
     },
     "execution_count": 26,
     "metadata": {},
     "output_type": "execute_result"
    }
   ],
   "source": [
    "bla"
   ]
  },
  {
   "cell_type": "code",
   "execution_count": null,
   "id": "b1e3bf3f-b42a-4baf-8ed5-e82d23ffa448",
   "metadata": {},
   "outputs": [],
   "source": []
  }
 ],
 "metadata": {
  "kernelspec": {
   "display_name": "pedaly",
   "language": "python",
   "name": "pedaly"
  },
  "language_info": {
   "codemirror_mode": {
    "name": "ipython",
    "version": 3
   },
   "file_extension": ".py",
   "mimetype": "text/x-python",
   "name": "python",
   "nbconvert_exporter": "python",
   "pygments_lexer": "ipython3",
   "version": "3.11.1"
  }
 },
 "nbformat": 4,
 "nbformat_minor": 5
}

{
 "cells": [
  {
   "cell_type": "code",
   "execution_count": null,
   "id": "96d050bf-83a1-458b-a408-e31a5df6608a",
   "metadata": {},
   "outputs": [],
   "source": [
    "import time\n",
    "from selenium import webdriver\n",
    "from selenium.webdriver.common.by import By"
   ]
  },
  {
   "cell_type": "code",
   "execution_count": null,
   "id": "fca4a354-893b-431b-88db-fa7805a91ebc",
   "metadata": {},
   "outputs": [],
   "source": [
    "url = 'https://www.tonepedia.com/catalog/'\n",
    "\n",
    "options = webdriver.ChromeOptions()\n",
    "options.add_argument('--incognito')\n",
    "\n",
    "driver = webdriver.Chrome(options=options)\n",
    "driver = webdriver.Chrome()\n",
    "driver.get(url)\n",
    "\n",
    "# Filter by selection\n",
    "selection = 'Effects and Pedals'\n",
    "\n",
    "check_boxes = driver.find_elements(\n",
    "    by=By.XPATH,\n",
    "    value='//span[@class=\"jet-checkboxes-list__label\"]'\n",
    ")\n",
    "\n",
    "for box in check_boxes:\n",
    "    if box.text == selection:\n",
    "        box.click()\n",
    "        \n",
    "# Waits 10 seconds to refresh the site\n",
    "time.sleep(5)\n",
    "\n",
    "# Get products URL\n",
    "url_list = []\n",
    "count = 1\n",
    "while True:\n",
    "\n",
    "    print(f'Scraping page {count}')\n",
    "    product_list = driver.find_elements(\n",
    "        by=By.XPATH,\n",
    "        value='//h5[@class=\"jet-woo-builder-archive-product-title\"]/a'\n",
    "    )\n",
    "\n",
    "    for product in product_list:\n",
    "        url_list.append(product.get_attribute('href'))\n",
    "\n",
    "    # Pass to next page\n",
    "    try:\n",
    "        driver.find_element(\n",
    "            by=By.XPATH,\n",
    "            value='//div[@data-id=\"0d0ae34\"]//div[@class=\"jet-filters-pagination__item prev-next next\"]'\n",
    "        ).click()\n",
    "    except:\n",
    "        print(\"Scraping finished!!!\")\n",
    "        break\n",
    "    \n",
    "    count += 1\n",
    "\n",
    "    # Waits 8 seconds to refresh the site\n",
    "    time.sleep(8)"
   ]
  },
  {
   "cell_type": "code",
   "execution_count": null,
   "id": "0d60d3e7-8582-4cf6-a40d-3d266a2d5c70",
   "metadata": {},
   "outputs": [],
   "source": [
    "driver.close()\n",
    "\n",
    "with open('data/bla.txt','w', encoding=\"utf8\") as tfile:\n",
    "    tfile.write('\\n'.join(url_list))"
   ]
  },
  {
   "cell_type": "code",
   "execution_count": null,
   "id": "9f6062d9-81a4-48f5-b1c6-b25703fb275e",
   "metadata": {},
   "outputs": [],
   "source": []
  },
  {
   "cell_type": "code",
   "execution_count": null,
   "id": "07c91e11-bf67-4d2d-87c2-2a7e467123ba",
   "metadata": {},
   "outputs": [],
   "source": []
  },
  {
   "cell_type": "code",
   "execution_count": null,
   "id": "78b34058-5fa1-4a97-a980-62de2c054a10",
   "metadata": {},
   "outputs": [],
   "source": []
  },
  {
   "cell_type": "code",
   "execution_count": null,
   "id": "0485bdb0-8949-49c8-b2e5-23c3c1a4cfb1",
   "metadata": {},
   "outputs": [],
   "source": []
  },
  {
   "cell_type": "code",
   "execution_count": null,
   "id": "0b8a105e-083d-40c3-974e-3c6943061744",
   "metadata": {},
   "outputs": [],
   "source": []
  }
 ],
 "metadata": {
  "kernelspec": {
   "display_name": "pedaly",
   "language": "python",
   "name": "pedaly"
  },
  "language_info": {
   "codemirror_mode": {
    "name": "ipython",
    "version": 3
   },
   "file_extension": ".py",
   "mimetype": "text/x-python",
   "name": "python",
   "nbconvert_exporter": "python",
   "pygments_lexer": "ipython3",
   "version": "3.11.1"
  }
 },
 "nbformat": 4,
 "nbformat_minor": 5
}
